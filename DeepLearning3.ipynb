{
 "cells": [
  {
   "cell_type": "code",
   "execution_count": 1,
   "metadata": {
    "id": "fAlv0oyC9hxZ"
   },
   "outputs": [],
   "source": [
    "from sklearn.datasets import load_wine\n",
    "from sklearn.model_selection import train_test_split\n",
    "from keras.models import Sequential\n",
    "from keras.layers import Dense"
   ]
  },
  {
   "cell_type": "code",
   "execution_count": null,
   "metadata": {
    "id": "VBlXZ-MQ9uP_"
   },
   "outputs": [],
   "source": [
    "data=load_wine()"
   ]
  },
  {
   "cell_type": "code",
   "execution_count": 5,
   "metadata": {
    "id": "bYXeMkxn92PJ"
   },
   "outputs": [],
   "source": [
    "x=data.data\n",
    "y=data.target"
   ]
  },
  {
   "cell_type": "code",
   "execution_count": 6,
   "metadata": {
    "colab": {
     "base_uri": "https://localhost:8080/"
    },
    "id": "4hZWT_NG-MeU",
    "outputId": "f5d4dd3d-d2f9-4fcd-fc55-a1a493e2bf1e"
   },
   "outputs": [
    {
     "data": {
      "text/plain": [
       "178"
      ]
     },
     "execution_count": 6,
     "metadata": {},
     "output_type": "execute_result"
    }
   ],
   "source": [
    "y.size"
   ]
  },
  {
   "cell_type": "code",
   "execution_count": 7,
   "metadata": {
    "id": "Ag-UO7ip-Xfu"
   },
   "outputs": [],
   "source": [
    "from sklearn.preprocessing import StandardScaler, OneHotEncoder"
   ]
  },
  {
   "cell_type": "code",
   "execution_count": 8,
   "metadata": {
    "id": "phH73gDo-dSf"
   },
   "outputs": [],
   "source": [
    "scaler=StandardScaler()\n",
    "x=scaler.fit_transform(x)\n",
    "y_encoded=OneHotEncoder().fit_transform(y.reshape(-1,1))"
   ]
  },
  {
   "cell_type": "code",
   "execution_count": 9,
   "metadata": {
    "colab": {
     "base_uri": "https://localhost:8080/"
    },
    "id": "KR1HT1wS-y5E",
    "outputId": "54a5e845-8f79-416b-f7b7-46bf87da021e"
   },
   "outputs": [
    {
     "data": {
      "text/plain": [
       "(142, 13)"
      ]
     },
     "execution_count": 9,
     "metadata": {},
     "output_type": "execute_result"
    }
   ],
   "source": [
    "from keras.utils import to_categorical\n",
    "y_encoded=to_categorical(y)\n",
    "from sklearn.model_selection import train_test_split\n",
    "X_train,X_test,y_train,y_test=train_test_split(x,y_encoded,test_size=0.2,random_state=42)\n",
    "X_train.shape"
   ]
  },
  {
   "cell_type": "code",
   "execution_count": 10,
   "metadata": {
    "id": "oF5Zq5N1-7UZ"
   },
   "outputs": [],
   "source": [
    "model=Sequential()\n",
    "model.add(Dense(32,input_shape=(X_train.shape[1],),activation='relu'))\n",
    "model.add(Dense(3,activation='relu'))\n",
    "model.add(Dense(3,activation='softmax'))"
   ]
  },
  {
   "cell_type": "code",
   "execution_count": 11,
   "metadata": {
    "id": "t7xz1Xxb_Cyf"
   },
   "outputs": [],
   "source": [
    "model.compile(optimizer='adam',loss='categorical_crossentropy',metrics=['accuracy'])\n"
   ]
  },
  {
   "cell_type": "code",
   "execution_count": 12,
   "metadata": {
    "colab": {
     "base_uri": "https://localhost:8080/"
    },
    "id": "LAt_Ca8e_Jx1",
    "outputId": "daa7eb49-64db-44c5-ed8a-369b99b2111b"
   },
   "outputs": [
    {
     "name": "stdout",
     "output_type": "stream",
     "text": [
      "Model: \"sequential\"\n",
      "_________________________________________________________________\n",
      " Layer (type)                Output Shape              Param #   \n",
      "=================================================================\n",
      " dense (Dense)               (None, 32)                448       \n",
      "                                                                 \n",
      " dense_1 (Dense)             (None, 3)                 99        \n",
      "                                                                 \n",
      " dense_2 (Dense)             (None, 3)                 12        \n",
      "                                                                 \n",
      "=================================================================\n",
      "Total params: 559 (2.18 KB)\n",
      "Trainable params: 559 (2.18 KB)\n",
      "Non-trainable params: 0 (0.00 Byte)\n",
      "_________________________________________________________________\n"
     ]
    }
   ],
   "source": [
    "model.summary()"
   ]
  },
  {
   "cell_type": "code",
   "execution_count": 13,
   "metadata": {
    "colab": {
     "base_uri": "https://localhost:8080/"
    },
    "id": "aO0XO7Zt_Xiy",
    "outputId": "088ce7e3-532a-453b-bfd0-1b24f5db0db2"
   },
   "outputs": [
    {
     "name": "stdout",
     "output_type": "stream",
     "text": [
      "Epoch 1/50\n",
      "5/5 [==============================] - 2s 104ms/step - loss: 1.1788 - accuracy: 0.3592 - val_loss: 1.1667 - val_accuracy: 0.4167\n",
      "Epoch 2/50\n",
      "5/5 [==============================] - 0s 15ms/step - loss: 1.1178 - accuracy: 0.3521 - val_loss: 1.1100 - val_accuracy: 0.3056\n",
      "Epoch 3/50\n",
      "5/5 [==============================] - 0s 20ms/step - loss: 1.0693 - accuracy: 0.3944 - val_loss: 1.0599 - val_accuracy: 0.3333\n",
      "Epoch 4/50\n",
      "5/5 [==============================] - 0s 14ms/step - loss: 1.0281 - accuracy: 0.4296 - val_loss: 1.0168 - val_accuracy: 0.3889\n",
      "Epoch 5/50\n",
      "5/5 [==============================] - 0s 14ms/step - loss: 0.9906 - accuracy: 0.4859 - val_loss: 0.9787 - val_accuracy: 0.4444\n",
      "Epoch 6/50\n",
      "5/5 [==============================] - 0s 18ms/step - loss: 0.9576 - accuracy: 0.5423 - val_loss: 0.9439 - val_accuracy: 0.5000\n",
      "Epoch 7/50\n",
      "5/5 [==============================] - 0s 19ms/step - loss: 0.9227 - accuracy: 0.5845 - val_loss: 0.9096 - val_accuracy: 0.5278\n",
      "Epoch 8/50\n",
      "5/5 [==============================] - 0s 18ms/step - loss: 0.8903 - accuracy: 0.6268 - val_loss: 0.8765 - val_accuracy: 0.5833\n",
      "Epoch 9/50\n",
      "5/5 [==============================] - 0s 17ms/step - loss: 0.8559 - accuracy: 0.6831 - val_loss: 0.8435 - val_accuracy: 0.6667\n",
      "Epoch 10/50\n",
      "5/5 [==============================] - 0s 20ms/step - loss: 0.8252 - accuracy: 0.7113 - val_loss: 0.8106 - val_accuracy: 0.7500\n",
      "Epoch 11/50\n",
      "5/5 [==============================] - 0s 16ms/step - loss: 0.7906 - accuracy: 0.7746 - val_loss: 0.7800 - val_accuracy: 0.8333\n",
      "Epoch 12/50\n",
      "5/5 [==============================] - 0s 20ms/step - loss: 0.7566 - accuracy: 0.8169 - val_loss: 0.7503 - val_accuracy: 0.8333\n",
      "Epoch 13/50\n",
      "5/5 [==============================] - 0s 15ms/step - loss: 0.7219 - accuracy: 0.8451 - val_loss: 0.7224 - val_accuracy: 0.8333\n",
      "Epoch 14/50\n",
      "5/5 [==============================] - 0s 10ms/step - loss: 0.6858 - accuracy: 0.8732 - val_loss: 0.6947 - val_accuracy: 0.8333\n",
      "Epoch 15/50\n",
      "5/5 [==============================] - 0s 14ms/step - loss: 0.6517 - accuracy: 0.8873 - val_loss: 0.6663 - val_accuracy: 0.8889\n",
      "Epoch 16/50\n",
      "5/5 [==============================] - 0s 14ms/step - loss: 0.6198 - accuracy: 0.9085 - val_loss: 0.6405 - val_accuracy: 0.8889\n",
      "Epoch 17/50\n",
      "5/5 [==============================] - 0s 10ms/step - loss: 0.5898 - accuracy: 0.9085 - val_loss: 0.6169 - val_accuracy: 0.9167\n",
      "Epoch 18/50\n",
      "5/5 [==============================] - 0s 14ms/step - loss: 0.5629 - accuracy: 0.9085 - val_loss: 0.5955 - val_accuracy: 0.9167\n",
      "Epoch 19/50\n",
      "5/5 [==============================] - 0s 12ms/step - loss: 0.5390 - accuracy: 0.9085 - val_loss: 0.5760 - val_accuracy: 0.9167\n",
      "Epoch 20/50\n",
      "5/5 [==============================] - 0s 17ms/step - loss: 0.5177 - accuracy: 0.9085 - val_loss: 0.5591 - val_accuracy: 0.9167\n",
      "Epoch 21/50\n",
      "5/5 [==============================] - 0s 14ms/step - loss: 0.4981 - accuracy: 0.9155 - val_loss: 0.5439 - val_accuracy: 0.9167\n",
      "Epoch 22/50\n",
      "5/5 [==============================] - 0s 13ms/step - loss: 0.4810 - accuracy: 0.9225 - val_loss: 0.5299 - val_accuracy: 0.9167\n",
      "Epoch 23/50\n",
      "5/5 [==============================] - 0s 16ms/step - loss: 0.4647 - accuracy: 0.9296 - val_loss: 0.5171 - val_accuracy: 0.9167\n",
      "Epoch 24/50\n",
      "5/5 [==============================] - 0s 14ms/step - loss: 0.4507 - accuracy: 0.9437 - val_loss: 0.5054 - val_accuracy: 0.9167\n",
      "Epoch 25/50\n",
      "5/5 [==============================] - 0s 11ms/step - loss: 0.4379 - accuracy: 0.9507 - val_loss: 0.4946 - val_accuracy: 0.9167\n",
      "Epoch 26/50\n",
      "5/5 [==============================] - 0s 15ms/step - loss: 0.4265 - accuracy: 0.9577 - val_loss: 0.4846 - val_accuracy: 0.9444\n",
      "Epoch 27/50\n",
      "5/5 [==============================] - 0s 16ms/step - loss: 0.4160 - accuracy: 0.9577 - val_loss: 0.4756 - val_accuracy: 0.9444\n",
      "Epoch 28/50\n",
      "5/5 [==============================] - 0s 10ms/step - loss: 0.4063 - accuracy: 0.9577 - val_loss: 0.4673 - val_accuracy: 0.9444\n",
      "Epoch 29/50\n",
      "5/5 [==============================] - 0s 17ms/step - loss: 0.3979 - accuracy: 0.9648 - val_loss: 0.4596 - val_accuracy: 0.9444\n",
      "Epoch 30/50\n",
      "5/5 [==============================] - 0s 14ms/step - loss: 0.3901 - accuracy: 0.9648 - val_loss: 0.4524 - val_accuracy: 0.9444\n",
      "Epoch 31/50\n",
      "5/5 [==============================] - 0s 10ms/step - loss: 0.3828 - accuracy: 0.9648 - val_loss: 0.4457 - val_accuracy: 0.9444\n",
      "Epoch 32/50\n",
      "5/5 [==============================] - 0s 13ms/step - loss: 0.3760 - accuracy: 0.9718 - val_loss: 0.4391 - val_accuracy: 0.9444\n",
      "Epoch 33/50\n",
      "5/5 [==============================] - 0s 14ms/step - loss: 0.3698 - accuracy: 0.9718 - val_loss: 0.4329 - val_accuracy: 0.9444\n",
      "Epoch 34/50\n",
      "5/5 [==============================] - 0s 12ms/step - loss: 0.3640 - accuracy: 0.9718 - val_loss: 0.4271 - val_accuracy: 0.9444\n",
      "Epoch 35/50\n",
      "5/5 [==============================] - 0s 13ms/step - loss: 0.3587 - accuracy: 0.9718 - val_loss: 0.4216 - val_accuracy: 0.9444\n",
      "Epoch 36/50\n",
      "5/5 [==============================] - 0s 13ms/step - loss: 0.3536 - accuracy: 0.9718 - val_loss: 0.4167 - val_accuracy: 0.9444\n",
      "Epoch 37/50\n",
      "5/5 [==============================] - 0s 16ms/step - loss: 0.3486 - accuracy: 0.9718 - val_loss: 0.4119 - val_accuracy: 0.9444\n",
      "Epoch 38/50\n",
      "5/5 [==============================] - 0s 14ms/step - loss: 0.3441 - accuracy: 0.9718 - val_loss: 0.4073 - val_accuracy: 0.9444\n",
      "Epoch 39/50\n",
      "5/5 [==============================] - 0s 14ms/step - loss: 0.3397 - accuracy: 0.9718 - val_loss: 0.4028 - val_accuracy: 0.9444\n",
      "Epoch 40/50\n",
      "5/5 [==============================] - 0s 13ms/step - loss: 0.3356 - accuracy: 0.9718 - val_loss: 0.3986 - val_accuracy: 0.9444\n",
      "Epoch 41/50\n",
      "5/5 [==============================] - 0s 10ms/step - loss: 0.3317 - accuracy: 0.9718 - val_loss: 0.3944 - val_accuracy: 0.9722\n",
      "Epoch 42/50\n",
      "5/5 [==============================] - 0s 14ms/step - loss: 0.3277 - accuracy: 0.9718 - val_loss: 0.3905 - val_accuracy: 0.9722\n",
      "Epoch 43/50\n",
      "5/5 [==============================] - 0s 10ms/step - loss: 0.3242 - accuracy: 0.9718 - val_loss: 0.3867 - val_accuracy: 0.9722\n",
      "Epoch 44/50\n",
      "5/5 [==============================] - 0s 14ms/step - loss: 0.3205 - accuracy: 0.9789 - val_loss: 0.3830 - val_accuracy: 0.9722\n",
      "Epoch 45/50\n",
      "5/5 [==============================] - 0s 17ms/step - loss: 0.3170 - accuracy: 0.9789 - val_loss: 0.3794 - val_accuracy: 0.9722\n",
      "Epoch 46/50\n",
      "5/5 [==============================] - 0s 10ms/step - loss: 0.3137 - accuracy: 0.9789 - val_loss: 0.3759 - val_accuracy: 0.9722\n",
      "Epoch 47/50\n",
      "5/5 [==============================] - 0s 10ms/step - loss: 0.3105 - accuracy: 0.9859 - val_loss: 0.3722 - val_accuracy: 0.9722\n",
      "Epoch 48/50\n",
      "5/5 [==============================] - 0s 15ms/step - loss: 0.3072 - accuracy: 0.9859 - val_loss: 0.3688 - val_accuracy: 0.9722\n",
      "Epoch 49/50\n",
      "5/5 [==============================] - 0s 10ms/step - loss: 0.3042 - accuracy: 0.9859 - val_loss: 0.3653 - val_accuracy: 0.9722\n",
      "Epoch 50/50\n",
      "5/5 [==============================] - 0s 13ms/step - loss: 0.3010 - accuracy: 0.9859 - val_loss: 0.3619 - val_accuracy: 0.9722\n"
     ]
    },
    {
     "data": {
      "text/plain": [
       "<keras.src.callbacks.History at 0x7d8a0cccfd90>"
      ]
     },
     "execution_count": 13,
     "metadata": {},
     "output_type": "execute_result"
    }
   ],
   "source": [
    "model.fit(X_train,y_train,epochs=50,batch_size=32,validation_data=(X_test,y_test))"
   ]
  },
  {
   "cell_type": "code",
   "execution_count": 14,
   "metadata": {
    "colab": {
     "base_uri": "https://localhost:8080/"
    },
    "id": "RABemYRE_jmb",
    "outputId": "482a0829-926e-43a1-e328-7c17d400c911"
   },
   "outputs": [
    {
     "name": "stdout",
     "output_type": "stream",
     "text": [
      "2/2 [==============================] - 0s 12ms/step - loss: 0.3619 - accuracy: 0.9722\n"
     ]
    },
    {
     "data": {
      "text/plain": [
       "[0.3618583083152771, 0.9722222089767456]"
      ]
     },
     "execution_count": 14,
     "metadata": {},
     "output_type": "execute_result"
    }
   ],
   "source": [
    "model.evaluate(X_test,y_test)"
   ]
  },
  {
   "cell_type": "code",
   "execution_count": 15,
   "metadata": {
    "colab": {
     "base_uri": "https://localhost:8080/"
    },
    "id": "ea6Gsioc_s3G",
    "outputId": "8840a260-dd84-4701-b02a-422b46e1dfad"
   },
   "outputs": [
    {
     "name": "stdout",
     "output_type": "stream",
     "text": [
      "2/2 [==============================] - 0s 9ms/step - loss: 0.3619 - accuracy: 0.9722\n",
      "loss: 0.3618583083152771\n",
      "2/2 [==============================] - 0s 10ms/step - loss: 0.3619 - accuracy: 0.9722\n",
      "accuracy: 0.9722222089767456\n"
     ]
    }
   ],
   "source": [
    "print('loss:',model.evaluate(X_test,y_test)[0])\n",
    "print('accuracy:',model.evaluate(X_test,y_test)[1])"
   ]
  }
 ],
 "metadata": {
  "colab": {
   "provenance": []
  },
  "kernelspec": {
   "display_name": "Python 3",
   "name": "python3"
  },
  "language_info": {
   "name": "python"
  }
 },
 "nbformat": 4,
 "nbformat_minor": 0
}
